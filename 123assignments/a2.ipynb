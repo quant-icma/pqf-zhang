{
  "nbformat": 4,
  "nbformat_minor": 0,
  "metadata": {
    "kernelspec": {
      "display_name": "Python 3",
      "name": "python3"
    },
    "language_info": {
      "name": "python"
    },
    "colab": {
      "name": "a2.ipynb",
      "provenance": []
    }
  },
  "cells": [
    {
      "cell_type": "markdown",
      "metadata": {
        "id": "TjXm4aGTTOsG"
      },
      "source": [
        "# Assignment 2\n",
        "\n",
        "Complete the code snippets in a colab notebook. \n",
        "Download the notebook file and submit in Blackboard."
      ]
    },
    {
      "cell_type": "code",
      "metadata": {
        "id": "8kMpNKXVTOsR"
      },
      "source": [
        "import numpy as np"
      ],
      "execution_count": null,
      "outputs": []
    },
    {
      "cell_type": "code",
      "metadata": {
        "id": "zVkZl5mATOsU"
      },
      "source": [
        "class Call:\n",
        "    \n",
        "    def __init__(self, strike):\n",
        "        self.strike = strike\n",
        "\n",
        "    def __call__(self, spot):\n",
        "        return np.maximum(spot - self.strike, 0.)"
      ],
      "execution_count": null,
      "outputs": []
    },
    {
      "cell_type": "code",
      "metadata": {
        "id": "gn8eM5I_TOsU"
      },
      "source": [
        "class VanillaOption:\n",
        "    # Implement a vanilla option class\n",
        "    # The class with have no methods apart from the constructor\n",
        "    # when you are done delete the 'pass' statement\n",
        "    def __init__(self, maturity):\n",
        "        self.maturity = maturity\n",
        "        \n",
        "\n",
        "    def __init__(self, payoff):\n",
        "        self.payoff = payoff\n",
        "\n",
        "\n",
        "    # The constructor will initialize two attributes:\n",
        "    #  - maturity\n",
        "    #  - payoff object\n",
        "\n",
        "    #pass    "
      ],
      "execution_count": null,
      "outputs": []
    },
    {
      "cell_type": "code",
      "metadata": {
        "id": "O9pEXBKmTOsV"
      },
      "source": [
        "class BlackScholesProcess:\n",
        "    # Implement the stochastic process class\n",
        "    # The class with have:\n",
        "    #   - a constructor\n",
        "    #   - an evolve method\n",
        "    # when you are done delete the 'pass' statement\n",
        "     def __init__(self, spot, r, vol, maturity):\n",
        "        self.spot = spot\n",
        "        self.r = r\n",
        "        self.vol = vol\n",
        "        self.maturity = maturity\n",
        "     def __call__(self, maturity, N, S_0 )\n",
        "        W = np.sqrt(self.maturity) * np.random.normal(size=N)\n",
        "        S_T = S_0 * np.exp( (self.r-0.5*self.vol**2)*self.maturity + self.vol*W )\n",
        "        return S_T\n",
        "\n",
        "    # The constructor will initialize 3 attributes:\n",
        "    #    - spot: initial spot price\n",
        "    #    - rate: constant interest rate\n",
        "    #    - vol: constant vol\n",
        "    \n",
        "\n",
        "    # The 'evolve' method will take 2 arguments:\n",
        "    #   - time: the time horizon to simulate the process to\n",
        "    #   - norms: the sampled standard normal variables\n",
        "    # 'evolve' will return the simulate paths of the underlying using \n",
        "    #  the solution of the Black-Scholes stochastic differential equation\n",
        "\n",
        "    #pass\n",
        "        "
      ],
      "execution_count": null,
      "outputs": []
    },
    {
      "cell_type": "code",
      "metadata": {
        "id": "2SDRisgWTOsV"
      },
      "source": [
        "class FixedRateYieldCurve:\n",
        "    \n",
        "    # Implement the stochastic process class\n",
        "    # The class with have:\n",
        "    #   - a constructor\n",
        "    #   - a discount method\n",
        "    # when you are done delete the 'pass' statement\n",
        "    def __init__(self, r):\n",
        "        self.r = r\n",
        "\n",
        "    def __call__(self, T):\n",
        "        return discount_factor = exp(-self.r * T)\n",
        "    # The constructor will initialize 1 attribute:\n",
        "    #    - rate: constant interest rate\n",
        "      \n",
        "\n",
        "    # The 'discount' method will take 1 argument:\n",
        "    #   - maturity: the maturity it will compute the discount factor for\n",
        "    # 'discount' will return the discount factor\n",
        "\n",
        "    #pass"
      ],
      "execution_count": null,
      "outputs": []
    },
    {
      "cell_type": "markdown",
      "metadata": {
        "id": "cNcw7NVXTOsW"
      },
      "source": [
        "Here is a function that can use your classes:"
      ]
    },
    {
      "cell_type": "code",
      "metadata": {
        "id": "PArRWcnxTOsW"
      },
      "source": [
        "def mc_price_european(process, option, yield_curve, n_paths):\n",
        "    std_norms = np.random.normal(size=n_paths)\n",
        "    S_T = process.evolve(option.maturity, std_norms)\n",
        "    V_T = yield_curve.discount(option.maturity) * option.payoff(S_T)\n",
        "    V_0 = np.average(V_T)   \n",
        "\n",
        "    return V_0"
      ],
      "execution_count": 2,
      "outputs": []
    },
    {
      "cell_type": "markdown",
      "metadata": {
        "id": "s8-8EdgmTOsW"
      },
      "source": [
        "Some example inputs:"
      ]
    },
    {
      "cell_type": "code",
      "metadata": {
        "id": "DLEsNnyWTOsX",
        "outputId": "680ff73c-cb35-4c1e-b382-e05136805392",
        "colab": {
          "base_uri": "https://localhost:8080/",
          "height": 198
        }
      },
      "source": [
        "T = 5.\n",
        "S_0 = 100.\n",
        "vol = 0.2\n",
        "r = 0.02\n",
        "K = 100\n",
        "K2 = 120\n",
        "N = 10000\n",
        "print (V_0)"
      ],
      "execution_count": 7,
      "outputs": [
        {
          "output_type": "error",
          "ename": "NameError",
          "evalue": "ignored",
          "traceback": [
            "\u001b[0;31m---------------------------------------------------------------------------\u001b[0m",
            "\u001b[0;31mNameError\u001b[0m                                 Traceback (most recent call last)",
            "\u001b[0;32m<ipython-input-7-87e87849ec20>\u001b[0m in \u001b[0;36m<module>\u001b[0;34m()\u001b[0m\n\u001b[1;32m      6\u001b[0m \u001b[0mK2\u001b[0m \u001b[0;34m=\u001b[0m \u001b[0;36m120\u001b[0m\u001b[0;34m\u001b[0m\u001b[0;34m\u001b[0m\u001b[0m\n\u001b[1;32m      7\u001b[0m \u001b[0mN\u001b[0m \u001b[0;34m=\u001b[0m \u001b[0;36m10000\u001b[0m\u001b[0;34m\u001b[0m\u001b[0;34m\u001b[0m\u001b[0m\n\u001b[0;32m----> 8\u001b[0;31m \u001b[0mprint\u001b[0m \u001b[0;34m(\u001b[0m\u001b[0mV_0\u001b[0m\u001b[0;34m)\u001b[0m\u001b[0;34m\u001b[0m\u001b[0;34m\u001b[0m\u001b[0m\n\u001b[0m",
            "\u001b[0;31mNameError\u001b[0m: name 'V_0' is not defined"
          ]
        }
      ]
    },
    {
      "cell_type": "markdown",
      "metadata": {
        "id": "Lf3BcX54TOsX"
      },
      "source": [
        "Let's instantiate objects from your classes:"
      ]
    },
    {
      "cell_type": "code",
      "metadata": {
        "id": "agiMmFSpTOsX"
      },
      "source": [
        "## Uncomment the lines below\n",
        "\n",
        "# yield_curve = FixedRateYieldCurve(r)\n",
        "# rand_process = BlackScholesProcess(S_0, r, vol)\n",
        "# call_payoff = Call(K)\n",
        "# call_option = VanillaOption(T, call_payoff)"
      ],
      "execution_count": null,
      "outputs": []
    },
    {
      "cell_type": "markdown",
      "metadata": {
        "id": "Ekg2rGycTOsY"
      },
      "source": [
        "and use them:"
      ]
    },
    {
      "cell_type": "code",
      "metadata": {
        "id": "s3TscLbHTOsY"
      },
      "source": [
        "## Uncomment the lines below\n",
        "\n",
        "# c = mc_price_european(rand_process, call_option, yield_curve, N)\n",
        "# print(c)"
      ],
      "execution_count": null,
      "outputs": []
    },
    {
      "cell_type": "markdown",
      "metadata": {
        "id": "t9v-P4jlTOsY"
      },
      "source": [
        "Now, do the same with a couple more payoff types:"
      ]
    },
    {
      "cell_type": "code",
      "metadata": {
        "id": "sElj-rW3TOsY"
      },
      "source": [
        "class Put:\n",
        "    # Implement the payoff class\n",
        "    pass    "
      ],
      "execution_count": null,
      "outputs": []
    },
    {
      "cell_type": "code",
      "metadata": {
        "id": "Rp8u-NnzTOsZ"
      },
      "source": [
        "class DoubleDigital:\n",
        "    # Implement the payoff class\n",
        "    pass    "
      ],
      "execution_count": null,
      "outputs": []
    },
    {
      "cell_type": "markdown",
      "metadata": {
        "id": "Y9T7HMpOTOsZ"
      },
      "source": [
        "and use them:"
      ]
    },
    {
      "cell_type": "code",
      "metadata": {
        "id": "eJEk06AHTOsZ"
      },
      "source": [
        "# Uncomment the lines below and complete them\n",
        "\n",
        "# put_payoff = ...\n",
        "# put_option = ...\n",
        "# put_price = mc_price_european(...)\n",
        "# print(put_price)"
      ],
      "execution_count": null,
      "outputs": []
    },
    {
      "cell_type": "code",
      "metadata": {
        "id": "fc6bvQe4TOsZ"
      },
      "source": [
        "# Uncomment the lines below and complete them\n",
        "\n",
        "# dbl_digit_payoff = ...\n",
        "# double_digital_option = ...\n",
        "# dbl_digital_price = mc_price_european(...)\n",
        "# print(dbl_digital_price)"
      ],
      "execution_count": null,
      "outputs": []
    }
  ]
}