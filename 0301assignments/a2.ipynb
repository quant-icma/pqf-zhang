{
  "nbformat": 4,
  "nbformat_minor": 0,
  "metadata": {
    "kernelspec": {
      "display_name": "Python 3",
      "name": "python3"
    },
    "language_info": {
      "name": "python"
    },
    "colab": {
      "name": "a2.ipynb",
      "provenance": []
    }
  },
  "cells": [
    {
      "cell_type": "markdown",
      "metadata": {
        "id": "wG5aZ0WHub1S"
      },
      "source": [
        "# Assignment 2\n",
        "\n",
        "Complete the code snippets in a colab notebook. \n",
        "Download the notebook file and submit in Blackboard."
      ]
    },
    {
      "cell_type": "code",
      "metadata": {
        "id": "6c0bKwCRub1c"
      },
      "source": [
        "import numpy as np"
      ],
      "execution_count": 37,
      "outputs": []
    },
    {
      "cell_type": "code",
      "metadata": {
        "id": "xMuCFDpnub1d"
      },
      "source": [
        "class Call:\n",
        "    \n",
        "    def __init__(self, strike):\n",
        "        self.strike = strike\n",
        "\n",
        "    def __call__(self, spot):\n",
        "        return np.maximum(spot - self.strike, 0.)"
      ],
      "execution_count": 38,
      "outputs": []
    },
    {
      "cell_type": "code",
      "metadata": {
        "id": "MBcFhUI9ub1e"
      },
      "source": [
        "class VanillaOption:\n",
        "    # Implement a vanilla option class\n",
        "    # The class with have no methods apart from the constructor\n",
        "    # when you are done delete the 'pass' statement\n",
        "    def __init__(self, maturity, payoff):\n",
        "        self.maturity = maturity\n",
        "        self.payoff = payoff\n",
        "\n",
        "    # The constructor will initialize two attributes:\n",
        "    #  - maturity\n",
        "    #  - payoff object\n",
        "\n",
        "    #pass    "
      ],
      "execution_count": 39,
      "outputs": []
    },
    {
      "cell_type": "code",
      "metadata": {
        "id": "WbBPitMXub1e"
      },
      "source": [
        "class BlackScholesProcess:\n",
        "    # Implement the stochastic process class\n",
        "    # The class with have:\n",
        "    #   - a constructor\n",
        "    #   - an evolve method\n",
        "    # when you are done delete the 'pass' statement\n",
        "    def __init__(self, spot, rate, vol):\n",
        "        self.spot = spot\n",
        "        self.rate = rate\n",
        "        self.vol = vol\n",
        "        \n",
        "    def evolve (self, time, norms ):\n",
        "        W = np.sqrt(time) * norms\n",
        "        S_T = self.spot * np.exp( (self.rate-0.5*self.vol**2)*time + self.vol*W )\n",
        "        return S_T\n",
        "    # The constructor will initialize 3 attributes:\n",
        "    #    - spot: initial spot price\n",
        "    #    - rate: constant interest rate\n",
        "    #    - vol: constant vol\n",
        "    \n",
        "\n",
        "    # The 'evolve' method will take 2 arguments:\n",
        "    #   - time: the time horizon to simulate the process to\n",
        "    #   - norms: the sampled standard normal variables\n",
        "    # 'evolve' will return the simulate paths of the underlying using \n",
        "    #  the solution of the Black-Scholes stochastic differential equation\n",
        "\n",
        "    #pass\n",
        "        "
      ],
      "execution_count": 40,
      "outputs": []
    },
    {
      "cell_type": "code",
      "metadata": {
        "id": "iFyhKkb0ub1f"
      },
      "source": [
        "class FixedRateYieldCurve:\n",
        "    \n",
        "    # Implement the stochastic process class\n",
        "    # The class with have:\n",
        "    #   - a constructor\n",
        "    #   - a discount method\n",
        "    # when you are done delete the 'pass' statement\n",
        "    \n",
        "    # The constructor will initialize 1 attribute:\n",
        "    #    - rate: constant interest rate\n",
        "    def __init__(self, rate): \n",
        "        self.rate = rate\n",
        "   \n",
        "    def discount (self, maturity ):\n",
        "        return np.exp (-self.rate* maturity)\n",
        "    # The 'discount' method will take 1 argument:\n",
        "    #   - maturity: the maturity it will compute the discount factor for\n",
        "    # 'discount' will return the discount factor\n",
        "\n",
        "    #pass"
      ],
      "execution_count": 45,
      "outputs": []
    },
    {
      "cell_type": "markdown",
      "metadata": {
        "id": "vP85UvVgub1g"
      },
      "source": [
        "Here is a function that can use your classes:"
      ]
    },
    {
      "cell_type": "code",
      "metadata": {
        "id": "86OsdNJzub1h"
      },
      "source": [
        "def mc_price_european(process, option, yield_curve, n_paths):\n",
        "    std_norms = np.random.normal(size=n_paths)\n",
        "    S_T = process.evolve(option.maturity, std_norms)\n",
        "    V_T = yield_curve.discount(option.maturity) * option.payoff(S_T)\n",
        "    V_0 = np.average(V_T)   \n",
        "\n",
        "    return V_0"
      ],
      "execution_count": 46,
      "outputs": []
    },
    {
      "cell_type": "markdown",
      "metadata": {
        "id": "a3zqGZkKub1h"
      },
      "source": [
        "Some example inputs:"
      ]
    },
    {
      "cell_type": "code",
      "metadata": {
        "id": "sphxum_Aub1i"
      },
      "source": [
        "T = 5.\n",
        "S_0 = 100.\n",
        "vol = 0.2\n",
        "r = 0.02\n",
        "K = 100\n",
        "K2 = 120\n",
        "N = 10000"
      ],
      "execution_count": 47,
      "outputs": []
    },
    {
      "cell_type": "markdown",
      "metadata": {
        "id": "9W9e8KgCub1i"
      },
      "source": [
        "Let's instantiate objects from your classes:"
      ]
    },
    {
      "cell_type": "code",
      "metadata": {
        "id": "GlONtVDvub1i",
        "outputId": "814b98cc-3ad6-47f6-cffc-48d82b97e639",
        "colab": {
          "base_uri": "https://localhost:8080/",
          "height": 130
        }
      },
      "source": [
        "## Uncomment the lines below\n",
        "\n",
        " yield_curve = FixedRateYieldCurve(r)\n",
        " rand_process = BlackScholesProcess(S_0, r, vol)\n",
        " call_payoff = Call(K)\n",
        " call_option = VanillaOption(T, call_payoff)"
      ],
      "execution_count": 48,
      "outputs": [
        {
          "output_type": "error",
          "ename": "IndentationError",
          "evalue": "ignored",
          "traceback": [
            "\u001b[0;36m  File \u001b[0;32m\"<ipython-input-48-0b36f9ec420b>\"\u001b[0;36m, line \u001b[0;32m3\u001b[0m\n\u001b[0;31m    yield_curve = FixedRateYieldCurve(r)\u001b[0m\n\u001b[0m    ^\u001b[0m\n\u001b[0;31mIndentationError\u001b[0m\u001b[0;31m:\u001b[0m unexpected indent\n"
          ]
        }
      ]
    },
    {
      "cell_type": "markdown",
      "metadata": {
        "id": "ccy5E-dZub1i"
      },
      "source": [
        "and use them:"
      ]
    },
    {
      "cell_type": "code",
      "metadata": {
        "id": "3mvCKQUHub1j"
      },
      "source": [
        "## Uncomment the lines below\n",
        "\n",
        " c = mc_price_european(rand_process, call_option, yield_curve, N)\n",
        " print(c)"
      ],
      "execution_count": null,
      "outputs": []
    },
    {
      "cell_type": "markdown",
      "metadata": {
        "id": "pVnpdvRBub1j"
      },
      "source": [
        "Now, do the same with a couple more payoff types:"
      ]
    },
    {
      "cell_type": "code",
      "metadata": {
        "id": "Xjkc59Bzub1j"
      },
      "source": [
        "class Put:\n",
        "    # Implement the payoff class\n",
        "    pass    "
      ],
      "execution_count": null,
      "outputs": []
    },
    {
      "cell_type": "code",
      "metadata": {
        "id": "PRgKzU83ub1j"
      },
      "source": [
        "class DoubleDigital:\n",
        "    # Implement the payoff class\n",
        "    pass    "
      ],
      "execution_count": null,
      "outputs": []
    },
    {
      "cell_type": "markdown",
      "metadata": {
        "id": "_x4fdsyTub1k"
      },
      "source": [
        "and use them:"
      ]
    },
    {
      "cell_type": "code",
      "metadata": {
        "id": "1mcph8Euub1k"
      },
      "source": [
        "# Uncomment the lines below and complete them\n",
        "\n",
        "# put_payoff = ...\n",
        "# put_option = ...\n",
        "# put_price = mc_price_european(...)\n",
        "# print(put_price)"
      ],
      "execution_count": null,
      "outputs": []
    },
    {
      "cell_type": "code",
      "metadata": {
        "id": "XTkRAyETub1k"
      },
      "source": [
        "# Uncomment the lines below and complete them\n",
        "\n",
        "# dbl_digit_payoff = ...\n",
        "# double_digital_option = ...\n",
        "# dbl_digital_price = mc_price_european(...)\n",
        "# print(dbl_digital_price)"
      ],
      "execution_count": null,
      "outputs": []
    }
  ]
}